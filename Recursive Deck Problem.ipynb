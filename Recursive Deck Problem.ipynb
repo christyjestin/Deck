{
 "cells": [
  {
   "cell_type": "markdown",
   "metadata": {},
   "source": [
    "A few days ago my friend Cooper asked me what I thought was the expected outcome for the number of cards being in the right position in a shuffled standard deck of cards. For example, if only one card was in the right place, the deck would have a value of one. He had written an algorithm that determine this value experimentally.\n",
    "\n",
    "To solve the problem, I tried to find the number of combinations that had a value of n. This meant the some combination of n cards were in the right spot, and all other cards were in the wrong spot. The key to using this method was correctly calculating the number of ways to arrange the remaining cards such that they are all in the wrong place. At first I thought that the only way all cards could be out of order was by rotating the correct order but I realized this was not the case for sequences longer than 3.\n",
    "\n",
    "At this point, it dawned on me that the number of completely out of order sequences is the number of total sequences minus the  number of sequences with some positive number of elements in the correct spot. For example, the number of 15 element sequences that are completely out of order is equal to the total number of 15 element sequences (15!) minus the number of sequences with 1 element in the right spot, 2 elements in the right spot and so on.\n",
    "\n",
    "Continuing with the example of 15, we see that there are 15 choose 1 ways to pick 1 correct element. This means that the remaining 14 elements MUST all be out of place. By ignoring the one element in the correct spot, we see that we just need to know how many 14 element sequences there are where no elements are in the right spot. We don't have a method for finding this number quite yet but we shall return. We will then look at the next case. With 2 spots, there are 15 choose 2 ways to pick 2 spots to fix and the other 13 must all be in the wrong place as with the 1 spot case. Again we need to find the number of sequences with 13 spots completely out of order. It is clear that for any j number of spots, we can fix j elements in 15 choose j ways and we need to find the number of 15-j element sequences that are completely out of order.\n",
    "\n",
    "Looking at the pattern we see that the number of completely incorrect sequences of n elements can be derived from the number of completely incorrect sequences for each number of elements less than n. In other words, the number of completely incorrect sequences is recursive."
   ]
  },
  {
   "cell_type": "markdown",
   "metadata": {},
   "source": [
    "# Permutations and Combinations"
   ]
  },
  {
   "cell_type": "markdown",
   "metadata": {},
   "source": [
    "While trying to answer this problem, I started looking in permutations and combinations. At first, I used the shuffle function from the random library to generate possible sequences. Each new sequence was added to a master list. The random generation process would continue until n! unique sequences of n elements were created. While considering the above problem, I realized this can also be done using recursion to ensure that all n! sequences are found systematically. By choosing one element as the first value, we are left with n-1 elements. There are (n-1)! ways to order these elements. We can use the previously found permutations for n-1 elements by utilizing arrays as indices. It should be noted that there are n such elements which can be assigned the first slot, therefore there are n times (n-1)! or n! permutations. I defined the function such that if an integer x where passed in, the program would find permutations for all integers less than n if they were not already available. Once this was done, it would be possible to find all permutations of length x.\n"
   ]
  },
  {
   "cell_type": "code",
   "execution_count": 192,
   "metadata": {},
   "outputs": [],
   "source": [
    "import numpy as np\n",
    "from random import shuffle\n",
    "from numba import njit\n",
    "from collections import defaultdict\n",
    "\n",
    "perm_dict = defaultdict(list)\n",
    "\n",
    "def perm(x):\n",
    "    if x==1:\n",
    "        perm_dict[1] = [0]\n",
    "    else:\n",
    "        for i in range(1,x):\n",
    "            if len(perm_dict[i])==0: perm(i)\n",
    "        if len(perm_dict[x])==0:\n",
    "            for first_val in range(x):\n",
    "                rest = np.delete(np.arange(x),first_val)\n",
    "                #creates an array which is missing a certain value\n",
    "                for j in perm_dict[x-1]:\n",
    "                    new_entry = np.arange(x)\n",
    "                    new_entry[0] = first_val\n",
    "                    #the first value of this permutation is based on the above for loop\n",
    "                    new_entry[1:] = rest[j]\n",
    "                    #the remaining x-1 values are ordered based on a permutation of the sequence 0,1...x-2 which has x-1 elements\n",
    "                    perm_dict[x].append(new_entry)            "
   ]
  },
  {
   "cell_type": "markdown",
   "metadata": {},
   "source": [
    "I also wrote a fairly simple factorial and combination function. It should be noted that I had to cancel common terms in the numerator and denominator and use as few terms as possible in my combinations formula because of rounding at higher valued factorials."
   ]
  },
  {
   "cell_type": "code",
   "execution_count": 193,
   "metadata": {},
   "outputs": [],
   "source": [
    "def factorial(x):\n",
    "    result = 1\n",
    "    for i in range(1,x+1):\n",
    "        result*=i\n",
    "    return result\n",
    "\n",
    "def comb(n,x):\n",
    "    result = 1\n",
    "    for i in range(x-n+1,x+1):\n",
    "        result*=i\n",
    "    result/=factorial(n)\n",
    "    return result"
   ]
  },
  {
   "cell_type": "markdown",
   "metadata": {},
   "source": [
    "# The Problem"
   ]
  },
  {
   "cell_type": "markdown",
   "metadata": {},
   "source": [
    "The function below calculates the true value of the expected outcome by shuffling and counting the number of cards in the right place for a given number of cards and a given number of iterations. The values are then averaged."
   ]
  },
  {
   "cell_type": "code",
   "execution_count": 176,
   "metadata": {},
   "outputs": [],
   "source": [
    "@njit\n",
    "def true(x,iter):\n",
    "    full = np.arange(x)+1\n",
    "    sorted_full = np.arange(x)+1\n",
    "    sum = 0\n",
    "    for i in range(iter):\n",
    "        shuffle(full)\n",
    "        sum+=np.sum(full==sorted_full)\n",
    "    sum/=iter\n",
    "    return sum"
   ]
  },
  {
   "cell_type": "markdown",
   "metadata": {},
   "source": [
    "As we noted before, the key to solving this problem is recursively finding the number of completely incorrect sequences of a length x. We do this by counting all of the sequences that have at least one card in the right spot and subtracting this number from the total number of sequences."
   ]
  },
  {
   "cell_type": "code",
   "execution_count": 178,
   "metadata": {},
   "outputs": [],
   "source": [
    "zero_count = list()\n",
    "\n",
    "def zerofind(x):\n",
    "    if len(zero_count)==0: zero_count.append(0)\n",
    "    result = 0\n",
    "    while len(zero_count)<x-1:\n",
    "        zerofind(len(zero_count)+1)\n",
    "    if len(zero_count)>=x:\n",
    "        return zero_count[x-1]\n",
    "    for i in range(1,x):\n",
    "        result+=comb(i,x)*zero_count[x-i-1]\n",
    "        #determines the number of ways to fix i cards in the correct spot and uses the previous terms to find the number of completely incorrect sequences of length i\n",
    "    result+=1\n",
    "        #this is the original sequence where all cards are in the correct space; I did it this way to more easily utilize the previous values stored in the list zero_count\n",
    "    result = int(factorial(x)-result)\n",
    "        #subtracts the number of sequences with some correct elements from the total number\n",
    "    zero_count.append(result)\n",
    "    return result"
   ]
  },
  {
   "cell_type": "markdown",
   "metadata": {},
   "source": [
    "The below function simply looks at all permutations of length x and returns the number of completely incorrect sequences by checking the permutation and the ordered sequence element wise. Despite vectorization with numpy, the function is still quite slow as all permutations of length x must also be found first.\n",
    "\n",
    "To mirror the recursive zerofind function, alt_zerofind finds all values alt_zerofind(i) for i<x before finding alt_zerofind(x) by default, but this can be changed.\n",
    "\n",
    "We see that the exhaustive counting method lines up with the recursive algorithm we found above."
   ]
  },
  {
   "cell_type": "code",
   "execution_count": 179,
   "metadata": {},
   "outputs": [],
   "source": [
    "alt_zero_count = list()\n",
    "\n",
    "def alt_zerofind(x, single=0):\n",
    "    if not single:\n",
    "        #this is the default method which finds and stores all vallues of alt_zerofind(i) for i<x\n",
    "        if len(alt_zero_count)==0: alt_zero_count.append(0)\n",
    "        while len(alt_zero_count)<x-1:\n",
    "            alt_zerofind(len(alt_zero_count)+1)\n",
    "        if len(alt_zero_count)>=x:\n",
    "            return alt_zero_count[x-1]\n",
    "        if x not in perm_dict.keys(): perm(x)\n",
    "        n = np.sum((np.mean(np.array(perm_dict[x])==np.arange(x), axis=1)==np.zeros(len(perm_dict[x]),)))\n",
    "        #compares each permutation to the original sequence and counts the number of completely incorrect permutations\n",
    "        alt_zero_count.append(n)\n",
    "        return n\n",
    "    else:\n",
    "        #this method does not find previous values or store the newly calculated value; the algorithm is the same\n",
    "        if len(alt_zero_count)>=x:\n",
    "            return alt_zero_count[x-1]\n",
    "        if x not in perm_dict.keys(): perm(x)\n",
    "        n = np.sum((np.mean(np.array(perm_dict[x])==np.arange(x), axis=1)==np.zeros(len(perm_dict[x]),)))\n",
    "        return n"
   ]
  },
  {
   "cell_type": "code",
   "execution_count": 211,
   "metadata": {},
   "outputs": [
    {
     "name": "stdout",
     "output_type": "stream",
     "text": [
      "0 0\n",
      "1 1\n",
      "2 2\n",
      "9 9\n",
      "44 44\n",
      "265 265\n",
      "1854 1854\n",
      "14833 14833\n",
      "133496 133496\n",
      "1334961 1334961\n"
     ]
    }
   ],
   "source": [
    "for i in range(1,11):\n",
    "    print(zerofind(i),alt_zerofind(i))"
   ]
  },
  {
   "cell_type": "markdown",
   "metadata": {},
   "source": [
    "The following function calculates the expected outcome of the number of elements in the correct spot for a sequence of length x."
   ]
  },
  {
   "cell_type": "code",
   "execution_count": 181,
   "metadata": {},
   "outputs": [],
   "source": [
    "def exp(x):\n",
    "    sum = 0\n",
    "    if len(zero_count)<x: zerofind(x)\n",
    "    for i in range(1,x):\n",
    "        sum+=comb(i,x)*i*zero_count[x-i-1]\n",
    "    sum+=x\n",
    "    sum/=factorial(x)\n",
    "    return sum"
   ]
  },
  {
   "cell_type": "markdown",
   "metadata": {},
   "source": [
    "We see in the function below that the expected outcome lines up with the experimental values."
   ]
  },
  {
   "cell_type": "code",
   "execution_count": 190,
   "metadata": {},
   "outputs": [
    {
     "name": "stdout",
     "output_type": "stream",
     "text": [
      "1.0 1.00283\n",
      "1.0 1.0011933333333334\n",
      "1.0 1.00104\n",
      "1.0 1.000016\n",
      "1.0 1.0010133333333333\n",
      "1.0 0.99963\n",
      "1.0 1.0003425\n",
      "1.0 0.99991\n",
      "1.0 0.999751\n",
      "1.0 0.9986818181818182\n",
      "1.0 0.9993308333333333\n",
      "1.0 0.9990215384615385\n",
      "1.0 1.0008714285714286\n",
      "1.0 1.0015326666666666\n",
      "1.0 0.99949125\n",
      "1.0 1.0002188235294118\n",
      "1.0 0.9999755555555555\n",
      "1.0000000000000002 1.0004936842105263\n",
      "1.0000000000000002 0.9993635\n",
      "0.9999999999999999 0.9996561904761905\n",
      "0.9999999999999998 1.0002386363636364\n",
      "1.0 1.000125652173913\n",
      "1.0 0.9999720833333333\n",
      "0.9999999999999999 0.9993532\n",
      "0.9999999999999998 0.9993273076923077\n",
      "0.9999999999999998 0.9989018518518519\n",
      "1.0000000000000002 1.0008410714285714\n",
      "1.0 1.0002420689655172\n",
      "0.9999999999999996 0.9991203333333334\n",
      "1.0 0.9999819354838709\n",
      "1.0000000000000002 1.000665625\n",
      "1.0 1.0001745454545454\n",
      "1.0000000000000002 1.0005911764705882\n",
      "0.9999999999999998 1.0002202857142857\n",
      "1.0 0.9992141666666666\n",
      "0.9999999999999998 0.9991183783783784\n",
      "0.9999999999999997 1.000118157894737\n",
      "0.9999999999999997 0.9995784615384615\n",
      "0.9999999999999996 0.99991575\n",
      "0.9999999999999997 0.9994151219512195\n",
      "1.0 1.0000111904761906\n",
      "0.9999999999999997 1.0009879069767442\n",
      "0.9999999999999997 1.0006388636363637\n",
      "1.0 1.0002206666666666\n",
      "1.0 0.9996634782608695\n",
      "1.0 1.000089574468085\n",
      "1.0 1.0002802083333333\n",
      "0.9999999999999999 1.0005638775510204\n",
      "1.0 0.9997292\n",
      "1.0000000000000002 0.9994603921568628\n",
      "0.9999999999999992 1.0000348076923078\n",
      "0.9999999999999998 1.0003975471698112\n",
      "0.9999999999999998 0.9996622222222222\n",
      "0.9999999999999997 0.9991809090909091\n",
      "1.0000000000000002 1.0001978571428571\n",
      "1.0000000000000002 0.9999631578947369\n",
      "0.9999999999999998 1.0005579310344828\n",
      "0.9999999999999998 0.9998247457627119\n"
     ]
    }
   ],
   "source": [
    "for i in range(2,60):\n",
    "    print(exp(i),true(i,i*100000))"
   ]
  },
  {
   "cell_type": "markdown",
   "metadata": {},
   "source": [
    "It is quite clear that all of the calculated and experimentally obtained values are fairly close to 1. I have not looked at formally proving the expected outcome will always be 1 yet. The slight variations for the algorithm's expected values are likely due to truncated digits for calculations with very large numbers."
   ]
  },
  {
   "cell_type": "markdown",
   "metadata": {},
   "source": [
    "# The Answer"
   ]
  },
  {
   "cell_type": "code",
   "execution_count": 230,
   "metadata": {},
   "outputs": [
    {
     "data": {
      "text/plain": [
       "1.0"
      ]
     },
     "execution_count": 230,
     "metadata": {},
     "output_type": "execute_result"
    }
   ],
   "source": [
    "1.0"
   ]
  },
  {
   "cell_type": "markdown",
   "metadata": {},
   "source": [
    "Thanks for reading! If you notice any issues or have any questions, please feel free to reach out to me at cjj9000@gmail.com."
   ]
  }
 ],
 "metadata": {
  "kernelspec": {
   "display_name": "Python 3",
   "language": "python",
   "name": "python3"
  },
  "language_info": {
   "codemirror_mode": {
    "name": "ipython",
    "version": 3
   },
   "file_extension": ".py",
   "mimetype": "text/x-python",
   "name": "python",
   "nbconvert_exporter": "python",
   "pygments_lexer": "ipython3",
   "version": "3.7.1"
  }
 },
 "nbformat": 4,
 "nbformat_minor": 2
}
